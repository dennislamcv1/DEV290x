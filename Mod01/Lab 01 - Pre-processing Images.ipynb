{
 "cells": [
  {
   "cell_type": "markdown",
   "metadata": {
    "collapsed": true
   },
   "source": [
    "# Lab 1 - Pre-Processing Data\n",
    "\n",
    "In this lab, you will use Python to explore and prepare the image data that you will work with in subsequent labs. Specifically, you need to prepare the images to be used as training data for a machine learning model that you will build in later labs.\n",
    "\n",
    "## Set Up Data Folder Paths\n",
    "The raw data is provided in the **../data/voc** folder. You must process this data and save the processed versions of the image files in the **../data/classification/training** folder, retaining the same structure of subfolders for each category of image."
   ]
  },
  {
   "cell_type": "code",
   "execution_count": 1,
   "metadata": {},
   "outputs": [],
   "source": [
    "src_folder = \"../data/voc\"\n",
    "train_folder = \"../data/classification/training\""
   ]
  },
  {
   "cell_type": "markdown",
   "metadata": {},
   "source": [
    "## Explore the Images\n",
    "In the following cell, add code to iterate through subfolders in the **voc** folder, and display the first image in each subfolder. Each subfolder represents a category, or *class*, of image.\n",
    "\n",
    "> **Hints**:\n",
    "> - Use the **os.walk** method to iterate through a hierarchy of folders.\n",
    "> - Use the **os.listdir** method to return a list of files in a subfolder.\n",
    "> - The first file in a subfolder is the first element of the list (for example, file_list[0]).\n",
    "> - Use subplots to display the images - you will need to define a grid that shows one image per subfolder."
   ]
  },
  {
   "cell_type": "code",
   "execution_count": null,
   "metadata": {},
   "outputs": [],
   "source": []
  },
  {
   "cell_type": "markdown",
   "metadata": {},
   "source": [
    "## Standardize the Images\n",
    "The images vary in size and shape. Most machine learning techniques for computer vision work best when the image data is a consistent format and size, so you must prepare the data accordingly.\n",
    "\n",
    "Add code to the following cell to standarize the images so that they are all 128x128 JPG files while retaining their original aspect-ratio, and save them in the same subfolder structure in a new **training** folder.\n",
    "\n",
    "> **Hints**:\n",
    "> - Encapsulate the code to resize an image in a function - use the **def** keyword to define a function.\n",
    "> - To Create a folder, use the **os.makedirs** method.\n",
    "> - To remove an existing folder that contains files, use the **shutil.rmtree** method."
   ]
  },
  {
   "cell_type": "code",
   "execution_count": null,
   "metadata": {},
   "outputs": [],
   "source": []
  },
  {
   "cell_type": "markdown",
   "metadata": {},
   "source": [
    "## Compare the Original and Resized Images\n",
    "Add code to the following cell to view the original and resized version of the first image in each subfolder.\n",
    "\n",
    ">**Hints**:\n",
    "> - This code should be simlar to the image exploration code above, but you must load the same image file from the subfolder in the original **voc** folder and the subfolder in the **classification/training** folder.\n",
    "> - This time, your subplots grid must show two images from each folder - you can arrange the images in two rows or two columns (one for original images, the other for resized images)."
   ]
  },
  {
   "cell_type": "code",
   "execution_count": null,
   "metadata": {},
   "outputs": [],
   "source": []
  }
 ],
 "metadata": {
  "kernelspec": {
   "display_name": "Python 3",
   "language": "python",
   "name": "python3"
  },
  "language_info": {
   "codemirror_mode": {
    "name": "ipython",
    "version": 3
   },
   "file_extension": ".py",
   "mimetype": "text/x-python",
   "name": "python",
   "nbconvert_exporter": "python",
   "pygments_lexer": "ipython3",
   "version": "3.7.6"
  }
 },
 "nbformat": 4,
 "nbformat_minor": 2
}
