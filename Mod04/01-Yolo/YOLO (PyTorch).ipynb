{
 "cells": [
  {
   "cell_type": "markdown",
   "metadata": {},
   "source": [
    "# Object Detection with YOLO in PyTorch\n",
    "\n",
    "In this exercise, you'll use a PyTorch implementation of YOLO to detect objects in an image.\n",
    "\n",
    "> **Important**: Using the YOLO model is resource-intensive. before running the code in this notebook, shut down all other notebooks in this library (In each open notebook other than this one, on the **File** menu, click **Close and Halt**). If you experience and Out-of-Memory (OOM) error when running code in this notebook, shut down this entire library, and then reopen it and open only this notebook.\n",
    "\n",
    "## Install PyTorch\n",
    "First, let's ensure that PyTorch is installed.\n",
    "\n",
    "> *Note: The following `pip install` commands install the CPU-based version of PyTorch on Linux, which is appropriate for the Azure Notebooks environment. For instructions on how to install the PyTorch and TorchVision packages on your own system, see https://pytorch.org/get-started/locally/*"
   ]
  },
  {
   "cell_type": "code",
   "execution_count": 1,
   "metadata": {
    "scrolled": false
   },
   "outputs": [],
   "source": [
    "# Install PyTorch\n",
    "#!pip install https://download.pytorch.org/whl/cpu/torch-1.0.1.post2-cp36-cp36m-linux_x86_64.whl\n",
    "#!pip install torchvision"
   ]
  },
  {
   "cell_type": "markdown",
   "metadata": {},
   "source": [
    "We'll also use the OpenCV library"
   ]
  },
  {
   "cell_type": "code",
   "execution_count": 2,
   "metadata": {},
   "outputs": [],
   "source": [
    "#!pip install opencv-python"
   ]
  },
  {
   "cell_type": "markdown",
   "metadata": {},
   "source": [
    "## Download and Convert YOLO weights\n",
    "YOLO is based on the Darknet model architecture - an open-source model written in C. The creators of this model have provided pre-trained weights that were trained on the [Common Objects in Context (COCO) dataset](cocodataset.org) - a common set of sample images for computer vision research.\n",
    "\n",
    "Run the following cell to download the weights.\n",
    "\n",
    "> _**Note**: This can take some time to run_"
   ]
  },
  {
   "cell_type": "code",
   "execution_count": 3,
   "metadata": {},
   "outputs": [
    {
     "name": "stderr",
     "output_type": "stream",
     "text": [
      "'wget' is not recognized as an internal or external command,\n",
      "operable program or batch file.\n"
     ]
    }
   ],
   "source": [
    "!wget https://pjreddie.com/media/files/yolov3.weights -O ~/yolov3.weights"
   ]
  },
  {
   "cell_type": "markdown",
   "metadata": {},
   "source": [
    "## Load the Weights into a PyTorch Model\n",
    "\n",
    "Now that we have the weights, we can load them into a Keras model.\n",
    "\n",
    "> **Note** The code to implement the Keras model is in **yolo_pytorch/models.py**. Additionally, there are some code files in the **yolo_pytorch/utils** folder that contain functions that are used to assemble and use the model."
   ]
  },
  {
   "cell_type": "code",
   "execution_count": null,
   "metadata": {},
   "outputs": [],
   "source": [
    "import yolo_pytorch.models as models\n",
    "from yolo_pytorch.utils.utils import *\n",
    "\n",
    "import os\n",
    "import sys\n",
    "import random\n",
    "\n",
    "import torch\n",
    "import torchvision.transforms as transforms\n",
    "\n",
    "print(\"Using PyTorch\", torch.__version__)\n",
    "\n",
    "# Set up model\n",
    "model_config = 'yolo_pytorch/yolov3.cfg'\n",
    "img_size = 416\n",
    "home = os.path.expanduser(\"~\")\n",
    "weights = os.path.join(home, \"yolov3.weights\")\n",
    "\n",
    "model = models.Darknet(model_config, img_size)\n",
    "models.load_darknet_weights(model, weights)\n",
    "print(model)"
   ]
  },
  {
   "cell_type": "markdown",
   "metadata": {},
   "source": [
    "## Use the Model to Detect Objects\n",
    "\n",
    "Now we're ready to use the YOLO model to detect objects in images.\n",
    "\n",
    "### Create functions to detect and display objects\n",
    "We'll create a couple of functions:\n",
    "\n",
    "- **detect_objects**: Submits an image to the model and returns predicted object locations\n",
    "- **show_objects**: Displays the image with a bounding box fo each detected object."
   ]
  },
  {
   "cell_type": "code",
   "execution_count": null,
   "metadata": {},
   "outputs": [],
   "source": [
    "def detect_objects(model, img):\n",
    "    \n",
    "    # Use GPU if available\n",
    "    if torch.cuda.is_available():\n",
    "        model.cuda()\n",
    "        Tensor = torch.cuda.FloatTensor\n",
    "    else:\n",
    "        Tensor = torch.FloatTensor\n",
    "    \n",
    "    # Set the model to evaluation mode\n",
    "    model.eval()\n",
    "    \n",
    "    # Get scaled width and height\n",
    "    ratio = min(img_size/img.size[0], img_size/img.size[1])\n",
    "    imw = round(img.size[0] * ratio)\n",
    "    imh = round(img.size[1] * ratio)\n",
    "\n",
    "    # Transform the image for prediction\n",
    "    img_transforms = transforms.Compose([\n",
    "         transforms.Resize((imh, imw)),\n",
    "         transforms.Pad((max(int((imh-imw)/2),0), max(int((imw-imh)/2),0), max(int((imh-imw)/2),0), max(int((imw-imh)/2),0)),\n",
    "                        (128,128,128)),\n",
    "         transforms.ToTensor(),\n",
    "         ])\n",
    "    \n",
    "    # convert image to a Tensor\n",
    "    image_tensor = img_transforms(img).float()\n",
    "    image_tensor = image_tensor.unsqueeze_(0)\n",
    "    \n",
    "    # Use the model to detect objects in the image\n",
    "    with torch.no_grad():\n",
    "        detections = model(image_tensor)\n",
    "        # Eliminate duplicates with non-max suppression\n",
    "        detections = non_max_suppression(detections, 0.8, 0.4)\n",
    "    return detections[0]\n",
    "\n",
    "def show_objects(img, detections):\n",
    "    import random\n",
    "    import matplotlib.patches as patches\n",
    "    import matplotlib.pyplot as plt\n",
    "    \n",
    "    # Get bounding-box colors\n",
    "    cmap = plt.get_cmap('tab20b')\n",
    "    colors = [cmap(i) for i in np.linspace(0, 1, 20)]\n",
    "\n",
    "    img = np.array(img)\n",
    "    plt.figure()\n",
    "    fig, ax = plt.subplots(1, figsize=(12,9))\n",
    "    ax.imshow(img)\n",
    "\n",
    "    pad_x = max(img.shape[0] - img.shape[1], 0) * (img_size / max(img.shape))\n",
    "    pad_y = max(img.shape[1] - img.shape[0], 0) * (img_size / max(img.shape))\n",
    "    unpad_h = img_size - pad_y\n",
    "    unpad_w = img_size - pad_x\n",
    "\n",
    "    if detections is not None:\n",
    "        # process each instance of each class that was found\n",
    "        classes = load_classes('yolo_pytorch/coco.names')\n",
    "        unique_labels = detections[:, -1].cpu().unique()\n",
    "        n_cls_preds = len(unique_labels)\n",
    "        bbox_colors = random.sample(colors, n_cls_preds)\n",
    "        # browse detections and draw bounding boxes\n",
    "        for x1, y1, x2, y2, conf, cls_conf, cls_pred in detections:\n",
    "            # Get the class name\n",
    "            predicted_class = classes[int(cls_pred)]\n",
    "            \n",
    "            #We'll display the class name and probability\n",
    "            label = '{} {:.2f}'.format(predicted_class, cls_conf)\n",
    "            \n",
    "            # Set the box dimensions\n",
    "            box_h = ((y2 - y1) / unpad_h) * img.shape[0]\n",
    "            box_w = ((x2 - x1) / unpad_w) * img.shape[1]\n",
    "            y1 = ((y1 - pad_y // 2) / unpad_h) * img.shape[0]\n",
    "            x1 = ((x1 - pad_x // 2) / unpad_w) * img.shape[1]\n",
    "            \n",
    "            # Add a box with the color for this class\n",
    "            color = bbox_colors[int(np.where(unique_labels == int(cls_pred))[0])]\n",
    "            bbox = patches.Rectangle((x1, y1), box_w, box_h, linewidth=2, edgecolor=color, facecolor='none')\n",
    "            ax.add_patch(bbox)\n",
    "            plt.text(x1, y1, s=label, color='white', verticalalignment='top',\n",
    "                    bbox={'color': color, 'pad': 0})\n",
    "    plt.axis('off')\n",
    "\n",
    "    plt.show()\n",
    "\n",
    "print(\"Functions ready\")"
   ]
  },
  {
   "cell_type": "markdown",
   "metadata": {},
   "source": [
    "### Use the functions with test images\n",
    "Now we're ready to get some predictions from our test images."
   ]
  },
  {
   "cell_type": "code",
   "execution_count": null,
   "metadata": {
    "scrolled": false
   },
   "outputs": [],
   "source": [
    "import os\n",
    "from PIL import Image\n",
    "\n",
    "test_dir = \"../../data/object_detection\"\n",
    "for image_file in os.listdir(test_dir):\n",
    "    \n",
    "    # Load image\n",
    "    img_path = os.path.join(test_dir, image_file)\n",
    "    image = Image.open(img_path)\n",
    "\n",
    "    # Detect objects in the image\n",
    "    detections = detect_objects(model, image)\n",
    "\n",
    "    # How many objects did we detect?\n",
    "    print('Found {} objects in {}'.format(len(detections), image_file))\n",
    "\n",
    "    # Display the image with bounding boxes\n",
    "    show_objects(image, detections)"
   ]
  },
  {
   "cell_type": "markdown",
   "metadata": {},
   "source": [
    "## Acknowledgements and Citations\n",
    "The original YOLO documentation is at https://pjreddie.com/darknet/yolo/.\n",
    "\n",
    "The PyTorch implementation of YOLO used in this exercise is based on the work of Ultralytics at https://github.com/ultralytics/yolov3, with some simplifications.\n",
    "\n",
    "The test images used in this exercise are from the PASCAL Visual Object Classes Challenge (VOC2007) dataset at http://host.robots.ox.ac.uk/pascal/VOC/voc2007/.\n",
    "\n",
    "\n",
    "    @misc{pascal-voc-2007,\n",
    "        author = \"Everingham, M. and Van~Gool, L. and Williams, C. K. I. and Winn, J. and Zisserman, A.\",\n",
    "        title = \"The {PASCAL} {V}isual {O}bject {C}lasses {C}hallenge 2007 {(VOC2007)} {R}esults\",\n",
    "        howpublished = \"http://www.pascal-network.org/challenges/VOC/voc2007/workshop/index.html\"}\n"
   ]
  }
 ],
 "metadata": {
  "kernelspec": {
   "display_name": "Python 3",
   "language": "python",
   "name": "python3"
  },
  "language_info": {
   "codemirror_mode": {
    "name": "ipython",
    "version": 3
   },
   "file_extension": ".py",
   "mimetype": "text/x-python",
   "name": "python",
   "nbconvert_exporter": "python",
   "pygments_lexer": "ipython3",
   "version": "3.7.6"
  }
 },
 "nbformat": 4,
 "nbformat_minor": 2
}
